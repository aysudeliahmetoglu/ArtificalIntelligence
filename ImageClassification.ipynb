{
 "cells": [
  {
   "cell_type": "code",
   "execution_count": 1,
   "metadata": {},
   "outputs": [],
   "source": [
    "import numpy as np"
   ]
  },
  {
   "cell_type": "code",
   "execution_count": 2,
   "metadata": {},
   "outputs": [],
   "source": [
    "class NearestNeighbor:\n",
    "    def __init__(self):\n",
    "        pass\n",
    "    \n",
    "    def train(self,X,y):\n",
    "        self.Xtr=X\n",
    "        self.ytr=y\n",
    "\n",
    "    def predict(self,X):\n",
    "        num_test=X.shape[0]\n",
    "        Ypred=np.zeros(num_test,dtype=self.ytr.dtype)\n",
    "\n",
    "        for i in xrange(num_test):\n",
    "            distances=np.sum(np.abs(self.Xtr-X[i,:]),axis=1)\n",
    "            min_index=np.argmin(distances)\n",
    "            Ypred[i]=self.ytr[min_index]\n",
    "        return Ypred            "
   ]
  },
  {
   "cell_type": "code",
   "execution_count": null,
   "metadata": {},
   "outputs": [],
   "source": []
  }
 ],
 "metadata": {
  "kernelspec": {
   "display_name": "Python 3",
   "language": "python",
   "name": "python3"
  },
  "language_info": {
   "codemirror_mode": {
    "name": "ipython",
    "version": 3
   },
   "file_extension": ".py",
   "mimetype": "text/x-python",
   "name": "python",
   "nbconvert_exporter": "python",
   "pygments_lexer": "ipython3",
   "version": "3.11.2"
  },
  "orig_nbformat": 4,
  "vscode": {
   "interpreter": {
    "hash": "aee8b7b246df8f9039afb4144a1f6fd8d2ca17a180786b69acc140d282b71a49"
   }
  }
 },
 "nbformat": 4,
 "nbformat_minor": 2
}

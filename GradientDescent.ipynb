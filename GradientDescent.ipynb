{
 "cells": [
  {
   "cell_type": "code",
   "execution_count": null,
   "metadata": {},
   "outputs": [],
   "source": [
    "#Vanilla Minibatch Gradient Descent\n",
    "\n",
    "while True:\n",
    "    data_batch = sample_training_data(data,256) #sample 256 examples\n",
    "    weights_grad = evaluate_gradient(loss_fun,data_batch,weights) \n",
    "    weights += - step_size * weights_grad #perform parameter update"
   ]
  }
 ],
 "metadata": {
  "language_info": {
   "name": "python"
  },
  "orig_nbformat": 4
 },
 "nbformat": 4,
 "nbformat_minor": 2
}
